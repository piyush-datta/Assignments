{
 "cells": [
  {
   "cell_type": "markdown",
   "id": "2a160b8d-28cf-4707-8de2-46f312873ce4",
   "metadata": {},
   "source": [
    "Q1. Which keyword is used to create a function? Create a function to return a list of odd numbers in the\n",
    "range of 1 to 25."
   ]
  },
  {
   "cell_type": "markdown",
   "id": "a8d41610-7887-44bd-996f-435719c0231e",
   "metadata": {},
   "source": [
    "'def' is used to create a function followed by the function name and paranthesis() in which we need to give arguments of the function."
   ]
  },
  {
   "cell_type": "code",
   "execution_count": 32,
   "id": "14c4243a-5941-4407-a0b9-381745639e9e",
   "metadata": {},
   "outputs": [],
   "source": [
    "def odd(n):\n",
    "    l=[]\n",
    "    for i in range(n):\n",
    "        if i%2!=0:\n",
    "            l.append(i)\n",
    "    return l"
   ]
  },
  {
   "cell_type": "code",
   "execution_count": 33,
   "id": "b4a912ac-3cf6-49e9-a9cc-6ba6a038c56c",
   "metadata": {},
   "outputs": [
    {
     "data": {
      "text/plain": [
       "[1, 3, 5, 7, 9, 11, 13, 15, 17, 19, 21, 23]"
      ]
     },
     "execution_count": 33,
     "metadata": {},
     "output_type": "execute_result"
    }
   ],
   "source": [
    "odd(25)"
   ]
  },
  {
   "cell_type": "markdown",
   "id": "e3059996-c6f8-4e49-9cf8-ff61fb54f497",
   "metadata": {},
   "source": [
    "Q2. Why *args and **kwargs is used in some functions? Create a function each for *args and **kwargs\n",
    "to demonstrate their use."
   ]
  },
  {
   "cell_type": "markdown",
   "id": "cacf15c0-59dc-4d7f-9ea9-19b0ab025e8e",
   "metadata": {},
   "source": [
    "*args are used to give 'n' no. of arguments in the function. It makes the arguments dynamic and we can give 0 to n no. of arguments to the function.\n",
    "**kwargs are used to give arguments in key : value pair and return the type as a dictionary. It can also take n no. of arguments but always in key-value pair.\n",
    "Below are the examples:-"
   ]
  },
  {
   "cell_type": "code",
   "execution_count": 34,
   "id": "ef250f6a-1b78-4b23-8a73-f8d9068022ff",
   "metadata": {},
   "outputs": [],
   "source": [
    "def fun1(*args):\n",
    "    return args"
   ]
  },
  {
   "cell_type": "code",
   "execution_count": 35,
   "id": "3e1245c5-c248-4222-9b9d-e10ae706b3b4",
   "metadata": {},
   "outputs": [
    {
     "data": {
      "text/plain": [
       "()"
      ]
     },
     "execution_count": 35,
     "metadata": {},
     "output_type": "execute_result"
    }
   ],
   "source": [
    "fun1()"
   ]
  },
  {
   "cell_type": "code",
   "execution_count": 36,
   "id": "184ab90f-683a-479d-9a11-96f52de1f1be",
   "metadata": {},
   "outputs": [
    {
     "data": {
      "text/plain": [
       "(1, 2, 3)"
      ]
     },
     "execution_count": 36,
     "metadata": {},
     "output_type": "execute_result"
    }
   ],
   "source": [
    "fun1(1,2,3)"
   ]
  },
  {
   "cell_type": "code",
   "execution_count": 37,
   "id": "82c08694-e511-437b-86b9-487347eee2c3",
   "metadata": {},
   "outputs": [
    {
     "data": {
      "text/plain": [
       "(23, 'Pwskills', 25.45)"
      ]
     },
     "execution_count": 37,
     "metadata": {},
     "output_type": "execute_result"
    }
   ],
   "source": [
    "fun1(23, 'Pwskills', 25.45)"
   ]
  },
  {
   "cell_type": "code",
   "execution_count": 38,
   "id": "55b5e090-b956-43e1-9ae5-1022d3892d8c",
   "metadata": {},
   "outputs": [],
   "source": [
    "def fun2(**kwargs):\n",
    "    return kwargs"
   ]
  },
  {
   "cell_type": "code",
   "execution_count": 39,
   "id": "a830d81d-78b0-40ad-b01f-d53d705632c5",
   "metadata": {},
   "outputs": [
    {
     "data": {
      "text/plain": [
       "{'a': 24, 'b': 57}"
      ]
     },
     "execution_count": 39,
     "metadata": {},
     "output_type": "execute_result"
    }
   ],
   "source": [
    "fun2(a=24, b=57)"
   ]
  },
  {
   "cell_type": "code",
   "execution_count": 40,
   "id": "5154ed0d-a89a-4ecc-b4ae-8685457e35d5",
   "metadata": {},
   "outputs": [
    {
     "data": {
      "text/plain": [
       "dict"
      ]
     },
     "execution_count": 40,
     "metadata": {},
     "output_type": "execute_result"
    }
   ],
   "source": [
    "type(fun2())"
   ]
  },
  {
   "cell_type": "code",
   "execution_count": 41,
   "id": "12eb696c-bada-4cf6-a0d2-326ffce09541",
   "metadata": {},
   "outputs": [
    {
     "data": {
      "text/plain": [
       "{}"
      ]
     },
     "execution_count": 41,
     "metadata": {},
     "output_type": "execute_result"
    }
   ],
   "source": [
    "fun2()"
   ]
  },
  {
   "cell_type": "markdown",
   "id": "af44ccf2-4354-42f0-909b-7003b39a64fa",
   "metadata": {},
   "source": [
    "Q3. What is an iterator in python? Name the method used to initialise the iterator object and the method\n",
    "used for iteration. Use these methods to print the first five elements of the given list [2, 4, 6, 8, 10, 12, 14,\n",
    "16, 18, 20]."
   ]
  },
  {
   "cell_type": "markdown",
   "id": "43e3e6ef-3c51-426b-ab1e-4727b0683aea",
   "metadata": {},
   "source": [
    "Iterator is an object that can be iterated, having countable no. of values.\n",
    "iter() is used to initialise the iterator object and the method used for iteration is next()"
   ]
  },
  {
   "cell_type": "code",
   "execution_count": 42,
   "id": "f5dd37aa-a477-4ca1-8916-201bfed93077",
   "metadata": {},
   "outputs": [],
   "source": [
    "l=[2, 4, 6, 8, 10, 12, 14,16, 18, 20]"
   ]
  },
  {
   "cell_type": "code",
   "execution_count": 43,
   "id": "3b2e2a51-8206-4db8-b182-359c139ba11c",
   "metadata": {},
   "outputs": [],
   "source": [
    "l1=iter(l)\n"
   ]
  },
  {
   "cell_type": "code",
   "execution_count": 44,
   "id": "a05405d1-ca25-40e8-8773-f952fc74acec",
   "metadata": {},
   "outputs": [
    {
     "name": "stdout",
     "output_type": "stream",
     "text": [
      "2\n",
      "4\n",
      "6\n",
      "8\n",
      "10\n"
     ]
    }
   ],
   "source": [
    "for i in range(5):\n",
    "    print(next(l1))"
   ]
  },
  {
   "cell_type": "markdown",
   "id": "831fbb36-8f55-4664-a1ff-c687bc6c3318",
   "metadata": {},
   "source": [
    "Q4. What is a generator function in python? Why yield keyword is used? Give an example of a generator\n",
    "function."
   ]
  },
  {
   "cell_type": "markdown",
   "id": "1d899498-b0ce-478e-94b6-120d78225adf",
   "metadata": {},
   "source": [
    "Generator function is used to return values of the function simultaneously without storing them in memory at once.\n",
    "Yield keyword is used in this function instead of return to return a value. This function returns a sequence of values which are iterable instead of a single value."
   ]
  },
  {
   "cell_type": "code",
   "execution_count": 45,
   "id": "de695154-d862-4a73-a58f-a9e89aaafb12",
   "metadata": {},
   "outputs": [],
   "source": [
    "def gen_fun(x):\n",
    "    for i in range(0,11):\n",
    "        yield x*i"
   ]
  },
  {
   "cell_type": "code",
   "execution_count": 46,
   "id": "ea09cd0f-0c19-4fa7-bd6d-ec3262e824f4",
   "metadata": {},
   "outputs": [
    {
     "name": "stdout",
     "output_type": "stream",
     "text": [
      "0\n",
      "5\n",
      "10\n",
      "15\n",
      "20\n",
      "25\n",
      "30\n",
      "35\n",
      "40\n",
      "45\n",
      "50\n"
     ]
    }
   ],
   "source": [
    "for i in gen_fun(5):\n",
    "    print(i)"
   ]
  },
  {
   "cell_type": "markdown",
   "id": "5d88bb40-79e6-44f6-b40a-bde850c41aac",
   "metadata": {},
   "source": [
    "Q5. Create a generator function for prime numbers less than 1000. Use the next() method to print the\n",
    "first 20 prime numbers."
   ]
  },
  {
   "cell_type": "code",
   "execution_count": 47,
   "id": "aa2458c3-5dff-4845-bb5c-90ecf85d9a6d",
   "metadata": {},
   "outputs": [],
   "source": [
    "def is_prime(x):\n",
    "    if x<2:\n",
    "        return False\n",
    "    for i in range(2, int(x**0.5)+1):\n",
    "        if x%i==0:\n",
    "            return False\n",
    "    return True"
   ]
  },
  {
   "cell_type": "code",
   "execution_count": 48,
   "id": "92eff8ca-e51f-4833-8b45-3fe6f3d106a8",
   "metadata": {},
   "outputs": [],
   "source": [
    "def prime_no(num):\n",
    "    for i in range(num):\n",
    "        if is_prime(i):\n",
    "            yield i"
   ]
  },
  {
   "cell_type": "code",
   "execution_count": 49,
   "id": "f27a1038-25ef-44c3-9d71-9c3fbf0b7bb7",
   "metadata": {},
   "outputs": [],
   "source": [
    "l=[]\n",
    "for i in prime_no(1000):\n",
    "    l.append(i)"
   ]
  },
  {
   "cell_type": "code",
   "execution_count": 50,
   "id": "12f221c0-7893-4f2a-88fa-45e7432612c6",
   "metadata": {},
   "outputs": [],
   "source": [
    "li=iter(l)"
   ]
  },
  {
   "cell_type": "code",
   "execution_count": 51,
   "id": "b85d1e02-2058-4a25-bd1d-1e4a0ddceb0e",
   "metadata": {},
   "outputs": [
    {
     "name": "stdout",
     "output_type": "stream",
     "text": [
      "2\n",
      "3\n",
      "5\n",
      "7\n",
      "11\n",
      "13\n",
      "17\n",
      "19\n",
      "23\n",
      "29\n",
      "31\n",
      "37\n",
      "41\n",
      "43\n",
      "47\n",
      "53\n",
      "59\n",
      "61\n",
      "67\n",
      "71\n"
     ]
    }
   ],
   "source": [
    "for i in range(20):\n",
    "    print(next(li))"
   ]
  },
  {
   "cell_type": "markdown",
   "id": "7f59ff9c-9521-4fed-9d62-76a7116bb7f5",
   "metadata": {},
   "source": [
    "Q6. Write a python program to print the first 10 Fibonacci numbers using a while loop."
   ]
  },
  {
   "cell_type": "code",
   "execution_count": 52,
   "id": "d3b02032-83ba-4dcb-9a45-77556d23451f",
   "metadata": {},
   "outputs": [],
   "source": [
    "def fibo(x):\n",
    "    a,b=0,1\n",
    "    i=0\n",
    "    while i<x:\n",
    "        print(a)\n",
    "        a,b=b,a+b\n",
    "        i+=1"
   ]
  },
  {
   "cell_type": "code",
   "execution_count": 53,
   "id": "96663978-9d1b-4fe1-8d24-1243ca07c710",
   "metadata": {},
   "outputs": [
    {
     "name": "stdout",
     "output_type": "stream",
     "text": [
      "0\n",
      "1\n",
      "1\n",
      "2\n",
      "3\n",
      "5\n",
      "8\n",
      "13\n",
      "21\n",
      "34\n"
     ]
    }
   ],
   "source": [
    "fibo(10)"
   ]
  },
  {
   "cell_type": "markdown",
   "id": "34874cf0-2293-455e-9c46-a6a288173932",
   "metadata": {},
   "source": [
    "Q7. Write a List Comprehension to iterate through the given string: ‘pwskills’.\n",
    "Expected output: ['p', 'w', 's', 'k', 'i', 'l', 'l', 's']"
   ]
  },
  {
   "cell_type": "code",
   "execution_count": 54,
   "id": "7f26d5e0-ed67-44f0-95a9-b06d97a00d49",
   "metadata": {},
   "outputs": [],
   "source": [
    "s='pwskills'"
   ]
  },
  {
   "cell_type": "code",
   "execution_count": 55,
   "id": "f779ed5f-d08a-4ebe-983f-cb5ee1ac1ed7",
   "metadata": {},
   "outputs": [
    {
     "name": "stdout",
     "output_type": "stream",
     "text": [
      "['p', 'w', 's', 'k', 'i', 'l', 'l', 's']\n"
     ]
    }
   ],
   "source": [
    "l=[]\n",
    "for x in s:\n",
    "    l.append(x)\n",
    "print(l)"
   ]
  },
  {
   "cell_type": "markdown",
   "id": "fe4a3d25-44cf-4efb-b06e-4ac7aaaa73a6",
   "metadata": {},
   "source": [
    "Q8. Write a python program to check whether a given number is Palindrome or not using a while loop."
   ]
  },
  {
   "cell_type": "code",
   "execution_count": 56,
   "id": "b3947b6c-2a5d-41e3-8512-84f699b66a3a",
   "metadata": {},
   "outputs": [
    {
     "name": "stdin",
     "output_type": "stream",
     "text": [
      "Enter the no.:  1598951\n"
     ]
    },
    {
     "name": "stdout",
     "output_type": "stream",
     "text": [
      "No. is palindrome\n"
     ]
    }
   ],
   "source": [
    "a=int(input(\"Enter the no.: \"))\n",
    "temp=a\n",
    "rev=0\n",
    "while (a>0):\n",
    "    d=a%10\n",
    "    rev=rev*10+d\n",
    "    a=a//10\n",
    "if (rev==temp):\n",
    "    print(\"No. is palindrome\")\n",
    "else:\n",
    "    print(\"No. is not palindrome\")"
   ]
  },
  {
   "cell_type": "markdown",
   "id": "3b28a33a-f138-4eb2-aaa2-2e79b2867e74",
   "metadata": {},
   "source": [
    "Q9. Write a code to print odd numbers from 1 to 100 using list comprehension."
   ]
  },
  {
   "cell_type": "code",
   "execution_count": 57,
   "id": "a50a60cb-fe8a-4273-9245-e61d70bf6c6a",
   "metadata": {},
   "outputs": [
    {
     "name": "stdout",
     "output_type": "stream",
     "text": [
      "[1, 3, 5, 7, 9, 11, 13, 15, 17, 19, 21, 23, 25, 27, 29, 31, 33, 35, 37, 39, 41, 43, 45, 47, 49, 51, 53, 55, 57, 59, 61, 63, 65, 67, 69, 71, 73, 75, 77, 79, 81, 83, 85, 87, 89, 91, 93, 95, 97, 99]\n"
     ]
    }
   ],
   "source": [
    "l=[]\n",
    "for i in range(100):\n",
    "    if (i%2!=0):\n",
    "        l.append(i)\n",
    "print(l)"
   ]
  },
  {
   "cell_type": "code",
   "execution_count": null,
   "id": "faec2775-8698-415b-b143-6f6621d88c3b",
   "metadata": {},
   "outputs": [],
   "source": []
  }
 ],
 "metadata": {
  "kernelspec": {
   "display_name": "Python 3 (ipykernel)",
   "language": "python",
   "name": "python3"
  },
  "language_info": {
   "codemirror_mode": {
    "name": "ipython",
    "version": 3
   },
   "file_extension": ".py",
   "mimetype": "text/x-python",
   "name": "python",
   "nbconvert_exporter": "python",
   "pygments_lexer": "ipython3",
   "version": "3.10.8"
  }
 },
 "nbformat": 4,
 "nbformat_minor": 5
}
