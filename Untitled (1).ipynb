{
 "cells": [
  {
   "cell_type": "markdown",
   "id": "e342f824-cda7-4b91-9d09-b4530852d77e",
   "metadata": {},
   "source": [
    "Q1. Create one variable containing following type of data:"
   ]
  },
  {
   "cell_type": "markdown",
   "id": "df91dd21-cef9-4172-856b-a4b451f310d0",
   "metadata": {},
   "source": [
    "(i) string"
   ]
  },
  {
   "cell_type": "code",
   "execution_count": 1,
   "id": "726ef4ed-d731-4486-a69b-a05278d86b90",
   "metadata": {},
   "outputs": [],
   "source": [
    "a= 'Piyush'"
   ]
  },
  {
   "cell_type": "markdown",
   "id": "03c395b7-1ac9-450b-80c1-cb65265d1782",
   "metadata": {},
   "source": [
    "(ii) list"
   ]
  },
  {
   "cell_type": "code",
   "execution_count": 2,
   "id": "279cb57d-1545-4e0a-8d76-a9e181b86c28",
   "metadata": {},
   "outputs": [],
   "source": [
    "b=[25, 25.235, \"I am an ML engineer\"]"
   ]
  },
  {
   "cell_type": "markdown",
   "id": "b485a2e4-09bb-4228-9e4f-6b3597c73cb3",
   "metadata": {},
   "source": [
    "(iii) float"
   ]
  },
  {
   "cell_type": "code",
   "execution_count": 3,
   "id": "94dc8d82-2a93-4db0-bdbf-b43ede74ec8c",
   "metadata": {},
   "outputs": [],
   "source": [
    "c=258.47"
   ]
  },
  {
   "cell_type": "markdown",
   "id": "f566490f-3243-464e-932f-7f3fe221703f",
   "metadata": {},
   "source": [
    "(iv) tuple"
   ]
  },
  {
   "cell_type": "code",
   "execution_count": 4,
   "id": "014c4d9f-ba41-400f-947e-b4ac02918808",
   "metadata": {},
   "outputs": [],
   "source": [
    "d=(25, 25.235, \"I am an ML engineer\")"
   ]
  },
  {
   "cell_type": "markdown",
   "id": "2b809f03-59ca-495a-a06b-5fb3ffff12d6",
   "metadata": {},
   "source": [
    "Q2. Given are some following variables containing data. What will be the data type of the above given variable?"
   ]
  },
  {
   "cell_type": "markdown",
   "id": "b2916235-1a05-417b-99a0-c9d20ecb6d8f",
   "metadata": {},
   "source": [
    "(i) var1 = ‘ ‘ :- string (str)\n",
    "(ii) var2 = ‘[ DS , ML , Python]’ :- String\n",
    "(iii) var3 = ['DS' , 'ML' , 'Python' ] :- List\n",
    "(iv) var4 = 1 :- integer (int)"
   ]
  },
  {
   "cell_type": "markdown",
   "id": "6c7ea3b0-e2c4-4789-8b1c-f1c3ccdf51b2",
   "metadata": {},
   "source": [
    "Q3. Explain the use of the following operators using an example:"
   ]
  },
  {
   "cell_type": "markdown",
   "id": "96ac69b4-490d-43ad-91c9-3c6bb1b89d76",
   "metadata": {},
   "source": [
    "(i) /\n",
    "Used as an arithmatic operator to divide one variable by another and give quotient as the answer. Below is the example:-"
   ]
  },
  {
   "cell_type": "code",
   "execution_count": 5,
   "id": "365e42e1-4f60-4db3-bc62-c3ea1b255b73",
   "metadata": {},
   "outputs": [
    {
     "name": "stdout",
     "output_type": "stream",
     "text": [
      "5.625\n"
     ]
    }
   ],
   "source": [
    "a=45\n",
    "b=8\n",
    "c=a/b\n",
    "print(c)"
   ]
  },
  {
   "cell_type": "markdown",
   "id": "812689de-09be-4f44-9931-bcc6e122248b",
   "metadata": {},
   "source": [
    "(ii) %\n",
    "Used as an arithmatic operator to divide one variable by another and give remainder as the answer. Below is the example:-"
   ]
  },
  {
   "cell_type": "code",
   "execution_count": 6,
   "id": "1a50a368-588b-4722-aced-28c22c72f950",
   "metadata": {},
   "outputs": [
    {
     "name": "stdout",
     "output_type": "stream",
     "text": [
      "5\n"
     ]
    }
   ],
   "source": [
    "a=45\n",
    "b=8\n",
    "c=a%b\n",
    "print(c)"
   ]
  },
  {
   "cell_type": "markdown",
   "id": "6d81d04a-30e6-4d4b-96cb-4003515ff12b",
   "metadata": {},
   "source": [
    "(iii) //\n",
    "Used as an arithmatic operator to divide one variable by another and give divisor as the answer. Below is the example:-"
   ]
  },
  {
   "cell_type": "code",
   "execution_count": 7,
   "id": "8654cecb-1488-4559-b20f-3c407081115a",
   "metadata": {},
   "outputs": [
    {
     "name": "stdout",
     "output_type": "stream",
     "text": [
      "5\n"
     ]
    }
   ],
   "source": [
    "a=45\n",
    "b=8\n",
    "c=a//b\n",
    "print(c)"
   ]
  },
  {
   "cell_type": "markdown",
   "id": "c1f7ff1e-fb43-4595-b4d1-f072baa56ca4",
   "metadata": {},
   "source": [
    "(iv) **\n",
    "Used as an arithmatic operator to get power of a variable. Below is the example:-"
   ]
  },
  {
   "cell_type": "code",
   "execution_count": 8,
   "id": "9f76a2cf-abb6-4453-8178-e332e13e1d4b",
   "metadata": {},
   "outputs": [
    {
     "name": "stdout",
     "output_type": "stream",
     "text": [
      "8\n"
     ]
    }
   ],
   "source": [
    "a=2\n",
    "b=3\n",
    "c=a**b\n",
    "print(c)"
   ]
  },
  {
   "cell_type": "markdown",
   "id": "3a810022-c11a-4b09-9e6f-723cf7337fda",
   "metadata": {},
   "source": [
    "Q4. Create a list of length 10 of your choice containing multiple types of data. Using for loop print the\n",
    "element and its data type."
   ]
  },
  {
   "cell_type": "code",
   "execution_count": 9,
   "id": "113917dd-d7e9-493d-a225-914c9bbb62d5",
   "metadata": {},
   "outputs": [],
   "source": [
    "l=[24, 42.14, 2+4j, 24, 'pwskills', [23, 4, 'Shubh'], (23, 4, 'p'), {23, 4}, {'class':'Data Science', \"students\": 4}, False]"
   ]
  },
  {
   "cell_type": "code",
   "execution_count": 10,
   "id": "6861b797-9bf5-4e1f-804a-837b7e0f17d9",
   "metadata": {},
   "outputs": [
    {
     "data": {
      "text/plain": [
       "10"
      ]
     },
     "execution_count": 10,
     "metadata": {},
     "output_type": "execute_result"
    }
   ],
   "source": [
    "len(l)"
   ]
  },
  {
   "cell_type": "code",
   "execution_count": 11,
   "id": "2aaecb59-92af-4a37-997a-906c9a0e9903",
   "metadata": {},
   "outputs": [
    {
     "name": "stdout",
     "output_type": "stream",
     "text": [
      "24 <class 'int'>\n",
      "42.14 <class 'float'>\n",
      "(2+4j) <class 'complex'>\n",
      "24 <class 'int'>\n",
      "pwskills <class 'str'>\n",
      "[23, 4, 'Shubh'] <class 'list'>\n",
      "(23, 4, 'p') <class 'tuple'>\n",
      "{4, 23} <class 'set'>\n",
      "{'class': 'Data Science', 'students': 4} <class 'dict'>\n",
      "False <class 'bool'>\n"
     ]
    }
   ],
   "source": [
    "for i in l:\n",
    "    print(i, type(i))"
   ]
  },
  {
   "cell_type": "markdown",
   "id": "e3fdb501-a52d-466e-83d9-e72c607c4011",
   "metadata": {},
   "source": [
    "Q5. Using a while loop, verify if the number A is purely divisible by number B and if so then how many\n",
    "times it can be divisible."
   ]
  },
  {
   "cell_type": "code",
   "execution_count": null,
   "id": "a0f31201-793e-447c-92ba-b7efd89cca19",
   "metadata": {},
   "outputs": [],
   "source": [
    "A= int(input(\"Enter number A: \"))\n",
    "B= int(input(\"Enter number B: \"))\n",
    "while (A%B==0):\n",
    "    print(A//B,\"times\")\n",
    "    break"
   ]
  },
  {
   "cell_type": "markdown",
   "id": "f6de9870-712e-41d5-b9a7-12e1ab30faa4",
   "metadata": {},
   "source": [
    "Q6. Create a list containing 25 int type data. Using for loop and if-else condition print if the element is\n",
    "divisible by 3 or not."
   ]
  },
  {
   "cell_type": "code",
   "execution_count": null,
   "id": "a92b3122-3455-4df4-a34e-0522c1f41be8",
   "metadata": {},
   "outputs": [],
   "source": [
    "l=[]\n",
    "i=0\n",
    "while (i<25):\n",
    "    l.append(i+2)\n",
    "    i+=1\n",
    "print(l)    "
   ]
  },
  {
   "cell_type": "code",
   "execution_count": null,
   "id": "3aa1f65f-b455-436a-82c5-7c81659bf963",
   "metadata": {},
   "outputs": [],
   "source": [
    "for i in l:\n",
    "    if i%3==0:\n",
    "        print(i,'is divisible by 3')\n",
    "    else:\n",
    "        print(i,'is not divisible by 3')"
   ]
  },
  {
   "cell_type": "markdown",
   "id": "3ee506f5-d713-42c0-bcdf-4c83bd56c9ba",
   "metadata": {},
   "source": [
    "Q7. What do you understand about mutable and immutable data types? Give examples for both showing\n",
    "this property."
   ]
  },
  {
   "cell_type": "markdown",
   "id": "c595ae65-7951-4549-9e29-7d774c1959d3",
   "metadata": {},
   "source": [
    "Mutable data types are one whose data can be deleted, added, changed. We can make changes in the data of the variable anytime.For Example:-"
   ]
  },
  {
   "cell_type": "code",
   "execution_count": null,
   "id": "c7720daa-58ab-4e62-b2a3-ea162bb0e8ea",
   "metadata": {},
   "outputs": [],
   "source": [
    "l1=[12, 5644, 752, 'Piyush']"
   ]
  },
  {
   "cell_type": "code",
   "execution_count": null,
   "id": "5379adfd-6aee-48ab-8682-725a85b2644d",
   "metadata": {},
   "outputs": [],
   "source": [
    "l1.append('pwskills')"
   ]
  },
  {
   "cell_type": "code",
   "execution_count": null,
   "id": "cdaa8ef0-713a-428a-96be-157781fdd175",
   "metadata": {},
   "outputs": [],
   "source": [
    "l1"
   ]
  },
  {
   "cell_type": "code",
   "execution_count": null,
   "id": "61744058-8946-4702-a0ab-a5e0123fb86a",
   "metadata": {},
   "outputs": [],
   "source": [
    "l1.pop()"
   ]
  },
  {
   "cell_type": "code",
   "execution_count": null,
   "id": "bc9b73ee-67a1-45b7-a2e2-64c18459dd6d",
   "metadata": {},
   "outputs": [],
   "source": [
    "l1"
   ]
  },
  {
   "cell_type": "markdown",
   "id": "117cb07d-f40a-437e-bbaf-1fdc66b170b1",
   "metadata": {},
   "source": [
    "Immutable data types are one whose data cannot be deleted, added, changed. We cannot make any changes in the data of the variable.For Example:-"
   ]
  },
  {
   "cell_type": "code",
   "execution_count": null,
   "id": "93f9b5f3-9dea-4513-836b-3877ae994e2b",
   "metadata": {},
   "outputs": [],
   "source": [
    "t1={12, 5644, 752, 'Piyush'}"
   ]
  },
  {
   "cell_type": "code",
   "execution_count": null,
   "id": "ec5e06b3-88e1-46c9-9c48-7c771adaf91f",
   "metadata": {},
   "outputs": [],
   "source": [
    "t1[1]='Data'"
   ]
  },
  {
   "cell_type": "code",
   "execution_count": null,
   "id": "b95ca64e-1c63-4cf8-a5c2-d197235378af",
   "metadata": {},
   "outputs": [],
   "source": [
    "a= 'Piyush Datta'"
   ]
  },
  {
   "cell_type": "code",
   "execution_count": null,
   "id": "0ccccb55-af73-4038-9213-aaf3a8439549",
   "metadata": {},
   "outputs": [],
   "source": [
    "a[2]='e'"
   ]
  },
  {
   "cell_type": "code",
   "execution_count": null,
   "id": "8dd683a6-0ddc-474f-a2e5-327bdc8c8d79",
   "metadata": {},
   "outputs": [],
   "source": []
  }
 ],
 "metadata": {
  "kernelspec": {
   "display_name": "Python 3 (ipykernel)",
   "language": "python",
   "name": "python3"
  },
  "language_info": {
   "codemirror_mode": {
    "name": "ipython",
    "version": 3
   },
   "file_extension": ".py",
   "mimetype": "text/x-python",
   "name": "python",
   "nbconvert_exporter": "python",
   "pygments_lexer": "ipython3",
   "version": "3.10.8"
  }
 },
 "nbformat": 4,
 "nbformat_minor": 5
}
