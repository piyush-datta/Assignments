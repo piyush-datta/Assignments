{
 "cells": [
  {
   "cell_type": "markdown",
   "id": "2800dd53-76db-4a57-8823-ccb4248642e2",
   "metadata": {},
   "source": [
    "Q1, Create a vehicle class with an init method having instance variables as name_of_vehicle, max_speed\n",
    "and average_of_vehicle."
   ]
  },
  {
   "cell_type": "code",
   "execution_count": 130,
   "id": "2418793c-4f29-47ef-ab6c-62e898b3bd81",
   "metadata": {},
   "outputs": [],
   "source": [
    "class vehicle:\n",
    "    def __init__(self, name_of_vehicle, max_speed, average_of_vehicle):\n",
    "        self.name_of_vehicle= name_of_vehicle\n",
    "        self.max_speed= max_speed\n",
    "        self.average_of_vehicle= average_of_vehicle\n"
   ]
  },
  {
   "cell_type": "markdown",
   "id": "da6444ed-2258-465d-ad6a-70713662c1ea",
   "metadata": {},
   "source": [
    "Q2. Create a child class car from the vehicle class created in Que 1, which will inherit the vehicle class.\n",
    "Create a method named seating_capacity which takes capacity as an argument and returns the name of\n",
    "the vehicle and its seating capacity."
   ]
  },
  {
   "cell_type": "code",
   "execution_count": 131,
   "id": "18a31684-0236-4eb9-b6f3-cf524201e7d8",
   "metadata": {},
   "outputs": [],
   "source": [
    "class car(vehicle):\n",
    "    \n",
    "    def seating_capaciy(self, capacity):\n",
    "        self.capacity=capacity\n",
    "        return 'The vehicle {} is having capacity of {} seats.'.format (self.name_of_vehicle, self.capacity)"
   ]
  },
  {
   "cell_type": "code",
   "execution_count": 132,
   "id": "d1f8880d-6b54-48d6-beff-5bba8f2c5655",
   "metadata": {},
   "outputs": [],
   "source": [
    "jaguar= car('Jaguar', 250, 10)"
   ]
  },
  {
   "cell_type": "code",
   "execution_count": 133,
   "id": "49f23cc1-5ccb-451a-ae03-b09e0cbf0812",
   "metadata": {},
   "outputs": [
    {
     "data": {
      "text/plain": [
       "'The vehicle Jaguar is having capacity of 5 seats.'"
      ]
     },
     "execution_count": 133,
     "metadata": {},
     "output_type": "execute_result"
    }
   ],
   "source": [
    "jaguar.seating_capaciy(5)"
   ]
  },
  {
   "cell_type": "markdown",
   "id": "12ea6a92-c9b2-4d59-912c-530ed7262d0f",
   "metadata": {},
   "source": [
    "Q3. What is multiple inheritance? Write a python code to demonstrate multiple inheritance."
   ]
  },
  {
   "cell_type": "markdown",
   "id": "04061ea4-4163-43bc-a0db-7a6d78a6769a",
   "metadata": {},
   "source": [
    "Multiple inheritance is a type of inheritance in classes where a class inherit the properties of two or more classes. The child class is created having two or more classes as parent class. Below is the example:-"
   ]
  },
  {
   "cell_type": "code",
   "execution_count": 134,
   "id": "49a53a10-6285-4fb3-9ff7-c2e6377fc0cf",
   "metadata": {},
   "outputs": [],
   "source": [
    "class A:\n",
    "    \n",
    "    def classA(self):\n",
    "        print('This is Class A')"
   ]
  },
  {
   "cell_type": "code",
   "execution_count": 135,
   "id": "0183de96-60cc-4512-b35f-8f05ced68182",
   "metadata": {},
   "outputs": [],
   "source": [
    "class B:\n",
    "    \n",
    "    def classB(self):\n",
    "        print('This is Class B')"
   ]
  },
  {
   "cell_type": "code",
   "execution_count": 136,
   "id": "f794ad42-0027-4090-b978-af3367b2301b",
   "metadata": {},
   "outputs": [],
   "source": [
    "class C(A,B):\n",
    "    pass"
   ]
  },
  {
   "cell_type": "code",
   "execution_count": 137,
   "id": "09419409-a3e6-4c23-8ac3-665cbe246ba1",
   "metadata": {},
   "outputs": [],
   "source": [
    "test= C()"
   ]
  },
  {
   "cell_type": "code",
   "execution_count": 138,
   "id": "3d270002-1477-4ca9-a0ce-083052a35a7b",
   "metadata": {},
   "outputs": [
    {
     "name": "stdout",
     "output_type": "stream",
     "text": [
      "This is Class A\n"
     ]
    }
   ],
   "source": [
    "test.classA()"
   ]
  },
  {
   "cell_type": "code",
   "execution_count": 139,
   "id": "bb51b7de-2fa0-42e9-a926-28eab92e41e9",
   "metadata": {},
   "outputs": [
    {
     "name": "stdout",
     "output_type": "stream",
     "text": [
      "This is Class B\n"
     ]
    }
   ],
   "source": [
    "test.classB()"
   ]
  },
  {
   "cell_type": "markdown",
   "id": "27fe0e91-cec8-4a76-bfaf-e147b9b4bbab",
   "metadata": {},
   "source": [
    "Q4. What are getter and setter in python? Create a class and create a getter and a setter method in this\n",
    "class."
   ]
  },
  {
   "cell_type": "markdown",
   "id": "d5683336-56df-4789-981a-3984e4aca5dc",
   "metadata": {},
   "source": [
    "Getter and setter methods are used to maintain encapsulation in class while giving access to the private variables of the class to the user. These methods donot give direct access to the external user.\n",
    "Getter method is used to to have access to the attribute in a class.\n",
    "Setter method is used to change or mutate the value of an attribute."
   ]
  },
  {
   "cell_type": "code",
   "execution_count": 140,
   "id": "4f7baec3-dd82-45f7-ac8d-6239d50d62e5",
   "metadata": {},
   "outputs": [],
   "source": [
    "class employee:\n",
    "    def __init__(self,name, salary):\n",
    "        self.name=name\n",
    "        self.__salary= salary\n",
    "    \n",
    "    @property\n",
    "    def get_det(self):\n",
    "        return self.__salary\n",
    "    \n",
    "    @get_det.setter\n",
    "    def set_det(self, salary):\n",
    "        self.__salary= salary\n",
    "        "
   ]
  },
  {
   "cell_type": "code",
   "execution_count": 141,
   "id": "74556685-b16e-4399-ba16-dac7c616c8f6",
   "metadata": {},
   "outputs": [],
   "source": [
    "man= employee('Piyush', 700000)"
   ]
  },
  {
   "cell_type": "code",
   "execution_count": 142,
   "id": "9ce02e6c-0b4a-41e5-a050-2bf7ad0da906",
   "metadata": {},
   "outputs": [
    {
     "data": {
      "text/plain": [
       "700000"
      ]
     },
     "execution_count": 142,
     "metadata": {},
     "output_type": "execute_result"
    }
   ],
   "source": [
    "man.get_det"
   ]
  },
  {
   "cell_type": "code",
   "execution_count": 143,
   "id": "786b8886-4b74-40c9-bb90-07359030b7fc",
   "metadata": {},
   "outputs": [],
   "source": [
    "man.set_det= 80000"
   ]
  },
  {
   "cell_type": "code",
   "execution_count": 144,
   "id": "5af99969-932c-457e-9120-a9c3a90c4904",
   "metadata": {},
   "outputs": [
    {
     "data": {
      "text/plain": [
       "80000"
      ]
     },
     "execution_count": 144,
     "metadata": {},
     "output_type": "execute_result"
    }
   ],
   "source": [
    "man.get_det"
   ]
  },
  {
   "cell_type": "markdown",
   "id": "ea09a3cc-27c2-421b-a4e6-270bd7982575",
   "metadata": {},
   "source": [
    "Q5.What is method overriding in python? Write a python code to demonstrate method overriding."
   ]
  },
  {
   "cell_type": "markdown",
   "id": "0fbb4810-897f-4cf2-871a-880c22cec1a4",
   "metadata": {},
   "source": [
    "Method overriding is the process in which we overwrite a method inherited from a parent class in a child class. When a method of same name, attributes as of parent class, we make in child class to provide specific implementattion, then it is called method overriding. "
   ]
  },
  {
   "cell_type": "code",
   "execution_count": 145,
   "id": "f69859c6-4aa6-429b-bbfb-e64c4d58551a",
   "metadata": {},
   "outputs": [],
   "source": [
    "class Parent:\n",
    "    def details(self):\n",
    "        return \"I am a parent class method\"\n",
    "    def info(self):\n",
    "        print(\"Null\")\n",
    "    \n",
    "class child(Parent):\n",
    "    def details(self):\n",
    "        print(\"I am child class\")"
   ]
  },
  {
   "cell_type": "code",
   "execution_count": 146,
   "id": "c2032953-9e99-4866-a7e8-9d623ab872ee",
   "metadata": {},
   "outputs": [],
   "source": [
    "f= child()"
   ]
  },
  {
   "cell_type": "code",
   "execution_count": 147,
   "id": "a9737337-b52e-432f-af8e-f41dcbf853b2",
   "metadata": {},
   "outputs": [
    {
     "name": "stdout",
     "output_type": "stream",
     "text": [
      "I am child class\n"
     ]
    }
   ],
   "source": [
    "f.details()"
   ]
  },
  {
   "cell_type": "code",
   "execution_count": 148,
   "id": "8c9c377f-31ba-4768-b754-261253c62caf",
   "metadata": {},
   "outputs": [
    {
     "name": "stdout",
     "output_type": "stream",
     "text": [
      "Null\n"
     ]
    }
   ],
   "source": [
    "f.info()"
   ]
  },
  {
   "cell_type": "code",
   "execution_count": null,
   "id": "eaad7f3e-9cf4-402a-977d-2effa655e67c",
   "metadata": {},
   "outputs": [],
   "source": []
  }
 ],
 "metadata": {
  "kernelspec": {
   "display_name": "Python 3 (ipykernel)",
   "language": "python",
   "name": "python3"
  },
  "language_info": {
   "codemirror_mode": {
    "name": "ipython",
    "version": 3
   },
   "file_extension": ".py",
   "mimetype": "text/x-python",
   "name": "python",
   "nbconvert_exporter": "python",
   "pygments_lexer": "ipython3",
   "version": "3.10.8"
  }
 },
 "nbformat": 4,
 "nbformat_minor": 5
}
