{
 "cells": [
  {
   "cell_type": "markdown",
   "id": "262f3884-d042-417a-bd9a-1c6dd2dba120",
   "metadata": {},
   "source": [
    "Q1. Explain Class and Object with respect to Object-Oriented Programming. Give a suitable example."
   ]
  },
  {
   "cell_type": "markdown",
   "id": "c2dba90b-29d8-4655-acf3-5e82c7f7c747",
   "metadata": {},
   "source": [
    "Class is a user-defined blueprint of an object that decribes the behaviour or kind of object will look like.\n",
    "Object is a single instance of a class which contains data and methods working on that data. "
   ]
  },
  {
   "cell_type": "code",
   "execution_count": 1,
   "id": "4038771e-05fa-4e34-9a83-7cc6cecbc113",
   "metadata": {},
   "outputs": [],
   "source": [
    "class A:  # A is the name of the class\n",
    "    \n",
    "    def classA(self):\n",
    "        print('This is Class A')"
   ]
  },
  {
   "cell_type": "code",
   "execution_count": 3,
   "id": "9dce00ec-99f8-44f9-bbbd-2d2e25067afb",
   "metadata": {},
   "outputs": [],
   "source": [
    "B= A() # B is the object of the class"
   ]
  },
  {
   "cell_type": "code",
   "execution_count": 6,
   "id": "9290cb25-733b-4523-83be-f9493b229e45",
   "metadata": {},
   "outputs": [
    {
     "name": "stdout",
     "output_type": "stream",
     "text": [
      "This is Class A\n"
     ]
    }
   ],
   "source": [
    "B.classA()"
   ]
  },
  {
   "cell_type": "markdown",
   "id": "593a3a9a-c874-4d1e-a184-32bbae2b48ea",
   "metadata": {},
   "source": [
    "Q2. Name the four pillars of OOPs."
   ]
  },
  {
   "cell_type": "markdown",
   "id": "ee8d3ac1-f1ef-456d-9add-e7a3116fc94c",
   "metadata": {},
   "source": [
    "1. Polymorphism:- It refers to the use of a single type entity (method, operator or object) to represent different types in different scenarios.\n",
    "2. Encapsulation:- The concept of wrapping data and methods that work with data in one unit.\n",
    "3. Inheritance:- Inheritance allows us to create a new class from an existing class.\n",
    "4. Abstraction:- The process of handling complexity by hiding unnecessary information from the user"
   ]
  },
  {
   "cell_type": "markdown",
   "id": "48769479-8f45-4da3-857f-f36fcdf675fa",
   "metadata": {},
   "source": [
    "Q3. Explain why the __init__() function is used. Give a suitable example."
   ]
  },
  {
   "cell_type": "markdown",
   "id": "98d5834d-e692-47f8-92cc-0fae053cf71e",
   "metadata": {},
   "source": [
    "__init__() function is a constructor which is used to initialise the attributes in the class."
   ]
  },
  {
   "cell_type": "code",
   "execution_count": 7,
   "id": "56d887ff-0d70-433e-b556-a4b4be4f6489",
   "metadata": {},
   "outputs": [],
   "source": [
    "class vehicle:\n",
    "    def __init__(self, name_of_vehicle, max_speed, average_of_vehicle):\n",
    "        self.name_of_vehicle= name_of_vehicle\n",
    "        self.max_speed= max_speed\n",
    "        self.average_of_vehicle= average_of_vehicle\n",
    "    \n",
    "    def show(self):\n",
    "        print( self.name_of_vehicle,  self.max_speed,  self.average_of_vehicle)"
   ]
  },
  {
   "cell_type": "code",
   "execution_count": 8,
   "id": "e9d380ce-814a-415d-b212-e5b0427e264d",
   "metadata": {},
   "outputs": [],
   "source": [
    "car= vehicle('Honda', 210, 15)"
   ]
  },
  {
   "cell_type": "code",
   "execution_count": 9,
   "id": "20c7abdb-011a-49b2-9d6e-2e3ba193f3ad",
   "metadata": {},
   "outputs": [
    {
     "name": "stdout",
     "output_type": "stream",
     "text": [
      "Honda 210 15\n"
     ]
    }
   ],
   "source": [
    "car.show()"
   ]
  },
  {
   "cell_type": "markdown",
   "id": "afdd501b-dd86-4a67-9e42-8ff13aade728",
   "metadata": {},
   "source": [
    "Q4. Why self is used in OOPs?"
   ]
  },
  {
   "cell_type": "markdown",
   "id": "158116be-d8c6-462e-b45a-ee6f1e4fc08b",
   "metadata": {},
   "source": [
    "self is used as a pointer in class to represent the instance of the class. By using self we can access the attributes of a class. We can also use any keyword instead of self"
   ]
  },
  {
   "cell_type": "markdown",
   "id": "8a74a158-2e41-4a80-94bd-e115032cef60",
   "metadata": {},
   "source": [
    "Q5. What is inheritance? Give an example for each type of inheritance."
   ]
  },
  {
   "cell_type": "markdown",
   "id": "157899b6-d4a6-4783-8959-db4728a8e6ee",
   "metadata": {},
   "source": [
    "Inheritance is a property by which we can inherit or transfer the properties of one class to the another. It allows us to create a new class from an existing class. There are 5 types of inheritance:\n",
    "1. Single inheritance.\n",
    "2. Multi-level inheritance.\n",
    "3. Multiple inheritance.\n",
    "4. Hybrid inheritance.\n",
    "5. Hierarchical Inheritance."
   ]
  },
  {
   "cell_type": "code",
   "execution_count": 18,
   "id": "2f1948af-61c6-465b-85ca-a9fd3f7e6429",
   "metadata": {},
   "outputs": [],
   "source": [
    "#Single Inheritance\n",
    "class A:\n",
    "    \n",
    "    def classA(self):\n",
    "        print('This is Class A')\n",
    "class B(A):\n",
    "    pass\n"
   ]
  },
  {
   "cell_type": "code",
   "execution_count": 19,
   "id": "2a1d49ac-7a30-42f8-a9e9-587370842d3e",
   "metadata": {},
   "outputs": [],
   "source": [
    "ex=B()"
   ]
  },
  {
   "cell_type": "code",
   "execution_count": 20,
   "id": "d55f29ac-0e4e-4c96-9879-de3820f265e1",
   "metadata": {},
   "outputs": [
    {
     "name": "stdout",
     "output_type": "stream",
     "text": [
      "This is Class A\n"
     ]
    }
   ],
   "source": [
    "ex.classA()"
   ]
  },
  {
   "cell_type": "code",
   "execution_count": 21,
   "id": "4e182cf3-54d8-4491-9e00-c52d694f7ca0",
   "metadata": {},
   "outputs": [],
   "source": [
    "# Multi-level inheritance\n",
    "class A:\n",
    "    def classA(self):\n",
    "        print('This is Class A')\n",
    "class B(A):\n",
    "    def classB(self):\n",
    "        print('This is Class B')\n",
    "class C(B):\n",
    "    pass"
   ]
  },
  {
   "cell_type": "code",
   "execution_count": 22,
   "id": "54ca9c7e-db8c-4a52-995b-46c9fcbd3545",
   "metadata": {},
   "outputs": [],
   "source": [
    "var=C()"
   ]
  },
  {
   "cell_type": "code",
   "execution_count": 24,
   "id": "5cf3bc16-51f7-4060-89a4-7bb93e0e3ba4",
   "metadata": {},
   "outputs": [
    {
     "name": "stdout",
     "output_type": "stream",
     "text": [
      "This is Class A\n"
     ]
    }
   ],
   "source": [
    "var.classA()"
   ]
  },
  {
   "cell_type": "code",
   "execution_count": 25,
   "id": "5d0eb182-c178-42c9-8e12-9900e15f4ec6",
   "metadata": {},
   "outputs": [
    {
     "name": "stdout",
     "output_type": "stream",
     "text": [
      "This is Class B\n"
     ]
    }
   ],
   "source": [
    "var.classB()"
   ]
  },
  {
   "cell_type": "code",
   "execution_count": 26,
   "id": "835a8e65-2041-4338-9824-ae0e26ab9867",
   "metadata": {},
   "outputs": [],
   "source": [
    "# Multilevel inheritance\n",
    "class A:\n",
    "    def classA(self):\n",
    "        print('This is Class A')\n",
    "class B:\n",
    "    def classB(self):\n",
    "        print('This is Class B')\n",
    "class C(A,B):\n",
    "    pass"
   ]
  },
  {
   "cell_type": "code",
   "execution_count": 27,
   "id": "9a738b97-0b3c-4843-b280-580cb467a3ce",
   "metadata": {},
   "outputs": [],
   "source": [
    "var=C()"
   ]
  },
  {
   "cell_type": "code",
   "execution_count": 30,
   "id": "9c2552a5-656c-47d4-b68a-0ccf8b86d27a",
   "metadata": {},
   "outputs": [
    {
     "name": "stdout",
     "output_type": "stream",
     "text": [
      "This is Class A\n",
      "This is Class B\n"
     ]
    }
   ],
   "source": [
    "var.classA()\n",
    "var.classB()"
   ]
  },
  {
   "cell_type": "code",
   "execution_count": 32,
   "id": "f610e407-323a-4665-8535-88043cf6fd6d",
   "metadata": {},
   "outputs": [],
   "source": [
    "# Hybrid inheritance\n",
    "class A:\n",
    "    def classA(self):\n",
    "        print('This is Class A')\n",
    "class B:\n",
    "    def classB(self):\n",
    "        print('This is Class B')\n",
    "class C(A,B):\n",
    "    def classC(self):\n",
    "        print('This is Class C')\n",
    "class D(C):\n",
    "    def classD(self):\n",
    "        print('This is Class D')\n",
    "class E(C):\n",
    "    def classE(self):\n",
    "        print('This is Class E')\n",
    "class F(D,E):\n",
    "    pass"
   ]
  },
  {
   "cell_type": "code",
   "execution_count": 33,
   "id": "ea484156-5454-4620-b507-f98f9cfea291",
   "metadata": {},
   "outputs": [],
   "source": [
    "var=F()"
   ]
  },
  {
   "cell_type": "code",
   "execution_count": 48,
   "id": "742375e6-bf8f-4ef1-b4e5-87a4598c6036",
   "metadata": {},
   "outputs": [
    {
     "name": "stdout",
     "output_type": "stream",
     "text": [
      "This is Class A\n",
      "This is Class B\n",
      "This is Class C\n",
      "This is Class D\n",
      "This is Class E\n"
     ]
    }
   ],
   "source": [
    "var.classA()\n",
    "var.classB()\n",
    "var.classC()\n",
    "var.classD()\n",
    "var.classE()"
   ]
  },
  {
   "cell_type": "code",
   "execution_count": 49,
   "id": "b6b9a147-0da2-489e-8555-dc05117bda47",
   "metadata": {},
   "outputs": [],
   "source": [
    "# Hierarchial inheritance\n",
    "class A:\n",
    "    def classA(self):\n",
    "        print('This is Class A')\n",
    "class B(A):\n",
    "    def classB(self):\n",
    "        print('This is Class B')\n",
    "class C(A):\n",
    "    def classC(self):\n",
    "        print('This is Class C')\n",
    "class D(B):\n",
    "    def classD(self):\n",
    "        print('This is Class D')\n",
    "class E(B):\n",
    "    def classE(self):\n",
    "        print('This is Class E')\n",
    "class F(C):\n",
    "    pass\n",
    "class G(C):\n",
    "    pass"
   ]
  },
  {
   "cell_type": "code",
   "execution_count": null,
   "id": "c617eb14-9a4d-4d75-9c8e-875460d95064",
   "metadata": {},
   "outputs": [],
   "source": [
    "level1= A()\n",
    "level2= B()"
   ]
  }
 ],
 "metadata": {
  "kernelspec": {
   "display_name": "Python 3 (ipykernel)",
   "language": "python",
   "name": "python3"
  },
  "language_info": {
   "codemirror_mode": {
    "name": "ipython",
    "version": 3
   },
   "file_extension": ".py",
   "mimetype": "text/x-python",
   "name": "python",
   "nbconvert_exporter": "python",
   "pygments_lexer": "ipython3",
   "version": "3.10.8"
  }
 },
 "nbformat": 4,
 "nbformat_minor": 5
}
