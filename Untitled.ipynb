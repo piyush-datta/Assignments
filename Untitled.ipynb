{
 "cells": [
  {
   "cell_type": "markdown",
   "id": "e342f824-cda7-4b91-9d09-b4530852d77e",
   "metadata": {},
   "source": [
    "Q1. Create one variable containing following type of data:"
   ]
  },
  {
   "cell_type": "markdown",
   "id": "df91dd21-cef9-4172-856b-a4b451f310d0",
   "metadata": {},
   "source": [
    "(i) string"
   ]
  },
  {
   "cell_type": "code",
   "execution_count": 1,
   "id": "726ef4ed-d731-4486-a69b-a05278d86b90",
   "metadata": {},
   "outputs": [],
   "source": [
    "a= 'Piyush'"
   ]
  },
  {
   "cell_type": "markdown",
   "id": "03c395b7-1ac9-450b-80c1-cb65265d1782",
   "metadata": {},
   "source": [
    "(ii) list"
   ]
  },
  {
   "cell_type": "code",
   "execution_count": 2,
   "id": "279cb57d-1545-4e0a-8d76-a9e181b86c28",
   "metadata": {},
   "outputs": [],
   "source": [
    "b=[25, 25.235, \"I am an ML engineer\"]"
   ]
  },
  {
   "cell_type": "markdown",
   "id": "b485a2e4-09bb-4228-9e4f-6b3597c73cb3",
   "metadata": {},
   "source": [
    "(iii) float"
   ]
  },
  {
   "cell_type": "code",
   "execution_count": 3,
   "id": "94dc8d82-2a93-4db0-bdbf-b43ede74ec8c",
   "metadata": {},
   "outputs": [],
   "source": [
    "c=258.47"
   ]
  },
  {
   "cell_type": "markdown",
   "id": "f566490f-3243-464e-932f-7f3fe221703f",
   "metadata": {},
   "source": [
    "(iv) tuple"
   ]
  },
  {
   "cell_type": "code",
   "execution_count": 4,
   "id": "014c4d9f-ba41-400f-947e-b4ac02918808",
   "metadata": {},
   "outputs": [],
   "source": [
    "d=(25, 25.235, \"I am an ML engineer\")"
   ]
  },
  {
   "cell_type": "markdown",
   "id": "2b809f03-59ca-495a-a06b-5fb3ffff12d6",
   "metadata": {},
   "source": [
    "Q2. Given are some following variables containing data. What will be the data type of the above given variable?"
   ]
  },
  {
   "cell_type": "raw",
   "id": "12535267-d2b0-40e3-93dc-34e0138762f1",
   "metadata": {},
   "source": [
    "(i) var1 = ‘ ‘ :- string (str)\n",
    "(ii) var2 = ‘[ DS , ML , Python]’ :- String\n",
    "(iii) var3 = ['DS' , 'ML' , 'Python' ] :- List\n",
    "(iv) var4 = 1 :- integer (int)"
   ]
  },
  {
   "cell_type": "markdown",
   "id": "6c7ea3b0-e2c4-4789-8b1c-f1c3ccdf51b2",
   "metadata": {},
   "source": [
    "Q3. Explain the use of the following operators using an example:"
   ]
  },
  {
   "cell_type": "raw",
   "id": "c3ab3623-137a-49b4-8b7d-26c893ec001d",
   "metadata": {},
   "source": [
    "(i) /\n",
    "Used as an arithmatic operator to divide one variable by another and give quotient as the answer. Below is the example:-"
   ]
  },
  {
   "cell_type": "code",
   "execution_count": 5,
   "id": "365e42e1-4f60-4db3-bc62-c3ea1b255b73",
   "metadata": {},
   "outputs": [
    {
     "name": "stdout",
     "output_type": "stream",
     "text": [
      "5.625\n"
     ]
    }
   ],
   "source": [
    "a=45\n",
    "b=8\n",
    "c=a/b\n",
    "print(c)"
   ]
  },
  {
   "cell_type": "raw",
   "id": "efb6668c-6ae0-42bf-9f30-62940db939ad",
   "metadata": {},
   "source": [
    "(ii) %\n",
    "Used as an arithmatic operator to divide one variable by another and give remainder as the answer. Below is the example:-"
   ]
  },
  {
   "cell_type": "code",
   "execution_count": 6,
   "id": "1a50a368-588b-4722-aced-28c22c72f950",
   "metadata": {},
   "outputs": [
    {
     "name": "stdout",
     "output_type": "stream",
     "text": [
      "5\n"
     ]
    }
   ],
   "source": [
    "a=45\n",
    "b=8\n",
    "c=a%b\n",
    "print(c)"
   ]
  },
  {
   "cell_type": "raw",
   "id": "95c495bb-cb63-4893-b27e-eac0a054198a",
   "metadata": {},
   "source": [
    "(iii) //\n",
    "Used as an arithmatic operator to divide one variable by another and give divisor as the answer. Below is the example:-"
   ]
  },
  {
   "cell_type": "code",
   "execution_count": 7,
   "id": "8654cecb-1488-4559-b20f-3c407081115a",
   "metadata": {},
   "outputs": [
    {
     "name": "stdout",
     "output_type": "stream",
     "text": [
      "5\n"
     ]
    }
   ],
   "source": [
    "a=45\n",
    "b=8\n",
    "c=a//b\n",
    "print(c)"
   ]
  },
  {
   "cell_type": "raw",
   "id": "5d9fdf02-8492-4243-ba77-6bb16da194f9",
   "metadata": {},
   "source": [
    "(iv) **\n",
    "Used as an arithmatic operator to get power of a variable. Below is the example:-"
   ]
  },
  {
   "cell_type": "code",
   "execution_count": 8,
   "id": "9f76a2cf-abb6-4453-8178-e332e13e1d4b",
   "metadata": {},
   "outputs": [
    {
     "name": "stdout",
     "output_type": "stream",
     "text": [
      "8\n"
     ]
    }
   ],
   "source": [
    "a=2\n",
    "b=3\n",
    "c=a**b\n",
    "print(c)"
   ]
  },
  {
   "cell_type": "markdown",
   "id": "8961b101-ae14-4838-871a-ad23c6145a33",
   "metadata": {},
   "source": [
    "Q4. Create a list of length 10 of your choice containing multiple types of data. Using for loop print the\n",
    "element and its data type."
   ]
  },
  {
   "cell_type": "code",
   "execution_count": 9,
   "id": "113917dd-d7e9-493d-a225-914c9bbb62d5",
   "metadata": {},
   "outputs": [],
   "source": [
    "l=[24, 42.14, 2+4j, 24, 'pwskills', [23, 4, 'Shubh'], (23, 4, 'p'), {23, 4}, {'class':'Data Science', \"students\": 4}, False]"
   ]
  },
  {
   "cell_type": "code",
   "execution_count": 10,
   "id": "6861b797-9bf5-4e1f-804a-837b7e0f17d9",
   "metadata": {},
   "outputs": [
    {
     "data": {
      "text/plain": [
       "10"
      ]
     },
     "execution_count": 10,
     "metadata": {},
     "output_type": "execute_result"
    }
   ],
   "source": [
    "len(l)"
   ]
  },
  {
   "cell_type": "code",
   "execution_count": 11,
   "id": "2aaecb59-92af-4a37-997a-906c9a0e9903",
   "metadata": {},
   "outputs": [
    {
     "name": "stdout",
     "output_type": "stream",
     "text": [
      "24 <class 'int'>\n",
      "42.14 <class 'float'>\n",
      "(2+4j) <class 'complex'>\n",
      "24 <class 'int'>\n",
      "pwskills <class 'str'>\n",
      "[23, 4, 'Shubh'] <class 'list'>\n",
      "(23, 4, 'p') <class 'tuple'>\n",
      "{4, 23} <class 'set'>\n",
      "{'class': 'Data Science', 'students': 4} <class 'dict'>\n",
      "False <class 'bool'>\n"
     ]
    }
   ],
   "source": [
    "for i in l:\n",
    "    print(i, type(i))"
   ]
  },
  {
   "cell_type": "markdown",
   "id": "e3fdb501-a52d-466e-83d9-e72c607c4011",
   "metadata": {},
   "source": [
    "Q5. Using a while loop, verify if the number A is purely divisible by number B and if so then how many\n",
    "times it can be divisible."
   ]
  },
  {
   "cell_type": "code",
   "execution_count": 12,
   "id": "a0f31201-793e-447c-92ba-b7efd89cca19",
   "metadata": {},
   "outputs": [
    {
     "name": "stdin",
     "output_type": "stream",
     "text": [
      "Enter number A:  50\n",
      "Enter number B:  10\n"
     ]
    },
    {
     "name": "stdout",
     "output_type": "stream",
     "text": [
      "5 times\n"
     ]
    }
   ],
   "source": [
    "A= int(input(\"Enter number A: \"))\n",
    "B= int(input(\"Enter number B: \"))\n",
    "while (A%B==0):\n",
    "    print(A//B,\"times\")\n",
    "    break"
   ]
  },
  {
   "cell_type": "markdown",
   "id": "f6de9870-712e-41d5-b9a7-12e1ab30faa4",
   "metadata": {},
   "source": [
    "Q6. Create a list containing 25 int type data. Using for loop and if-else condition print if the element is\n",
    "divisible by 3 or not."
   ]
  },
  {
   "cell_type": "code",
   "execution_count": 13,
   "id": "a92b3122-3455-4df4-a34e-0522c1f41be8",
   "metadata": {},
   "outputs": [
    {
     "name": "stdout",
     "output_type": "stream",
     "text": [
      "[2, 3, 4, 5, 6, 7, 8, 9, 10, 11, 12, 13, 14, 15, 16, 17, 18, 19, 20, 21, 22, 23, 24, 25, 26]\n"
     ]
    }
   ],
   "source": [
    "l=[]\n",
    "i=0\n",
    "while (i<25):\n",
    "    l.append(i+2)\n",
    "    i+=1\n",
    "print(l)    "
   ]
  },
  {
   "cell_type": "code",
   "execution_count": 14,
   "id": "3aa1f65f-b455-436a-82c5-7c81659bf963",
   "metadata": {},
   "outputs": [
    {
     "name": "stdout",
     "output_type": "stream",
     "text": [
      "2 is not divisible by 3\n",
      "3 is divisible by 3\n",
      "4 is not divisible by 3\n",
      "5 is not divisible by 3\n",
      "6 is divisible by 3\n",
      "7 is not divisible by 3\n",
      "8 is not divisible by 3\n",
      "9 is divisible by 3\n",
      "10 is not divisible by 3\n",
      "11 is not divisible by 3\n",
      "12 is divisible by 3\n",
      "13 is not divisible by 3\n",
      "14 is not divisible by 3\n",
      "15 is divisible by 3\n",
      "16 is not divisible by 3\n",
      "17 is not divisible by 3\n",
      "18 is divisible by 3\n",
      "19 is not divisible by 3\n",
      "20 is not divisible by 3\n",
      "21 is divisible by 3\n",
      "22 is not divisible by 3\n",
      "23 is not divisible by 3\n",
      "24 is divisible by 3\n",
      "25 is not divisible by 3\n",
      "26 is not divisible by 3\n"
     ]
    }
   ],
   "source": [
    "for i in l:\n",
    "    if i%3==0:\n",
    "        print(i,'is divisible by 3')\n",
    "    else:\n",
    "        print(i,'is not divisible by 3')"
   ]
  },
  {
   "cell_type": "markdown",
   "id": "3ee506f5-d713-42c0-bcdf-4c83bd56c9ba",
   "metadata": {},
   "source": [
    "Q7. What do you understand about mutable and immutable data types? Give examples for both showing\n",
    "this property."
   ]
  },
  {
   "cell_type": "raw",
   "id": "80f1589e-fe35-4a0e-8d55-43509c40ce42",
   "metadata": {},
   "source": [
    "Mutable data types are one whose data can be deleted, added, changed. We can make changes in the data of the variable anytime.For Example:-"
   ]
  },
  {
   "cell_type": "code",
   "execution_count": 15,
   "id": "c7720daa-58ab-4e62-b2a3-ea162bb0e8ea",
   "metadata": {},
   "outputs": [],
   "source": [
    "l1=[12, 5644, 752, 'Piyush']"
   ]
  },
  {
   "cell_type": "code",
   "execution_count": 16,
   "id": "5379adfd-6aee-48ab-8682-725a85b2644d",
   "metadata": {},
   "outputs": [],
   "source": [
    "l1.append('pwskills')"
   ]
  },
  {
   "cell_type": "code",
   "execution_count": 17,
   "id": "cdaa8ef0-713a-428a-96be-157781fdd175",
   "metadata": {},
   "outputs": [
    {
     "data": {
      "text/plain": [
       "[12, 5644, 752, 'Piyush', 'pwskills']"
      ]
     },
     "execution_count": 17,
     "metadata": {},
     "output_type": "execute_result"
    }
   ],
   "source": [
    "l1"
   ]
  },
  {
   "cell_type": "code",
   "execution_count": 18,
   "id": "61744058-8946-4702-a0ab-a5e0123fb86a",
   "metadata": {},
   "outputs": [
    {
     "data": {
      "text/plain": [
       "'pwskills'"
      ]
     },
     "execution_count": 18,
     "metadata": {},
     "output_type": "execute_result"
    }
   ],
   "source": [
    "l1.pop()"
   ]
  },
  {
   "cell_type": "code",
   "execution_count": 19,
   "id": "bc9b73ee-67a1-45b7-a2e2-64c18459dd6d",
   "metadata": {},
   "outputs": [
    {
     "data": {
      "text/plain": [
       "[12, 5644, 752, 'Piyush']"
      ]
     },
     "execution_count": 19,
     "metadata": {},
     "output_type": "execute_result"
    }
   ],
   "source": [
    "l1"
   ]
  },
  {
   "cell_type": "raw",
   "id": "40852ff4-db70-4ed8-b7c8-114812bc91ff",
   "metadata": {},
   "source": [
    "Immutable data types are one whose data cannot be deleted, added, changed. We cannot make any changes in the data of the variable.For Example:-"
   ]
  },
  {
   "cell_type": "code",
   "execution_count": 20,
   "id": "93f9b5f3-9dea-4513-836b-3877ae994e2b",
   "metadata": {},
   "outputs": [],
   "source": [
    "t1={12, 5644, 752, 'Piyush'}"
   ]
  },
  {
   "cell_type": "code",
   "execution_count": 21,
   "id": "ec5e06b3-88e1-46c9-9c48-7c771adaf91f",
   "metadata": {},
   "outputs": [
    {
     "ename": "TypeError",
     "evalue": "'set' object does not support item assignment",
     "output_type": "error",
     "traceback": [
      "\u001b[0;31m---------------------------------------------------------------------------\u001b[0m",
      "\u001b[0;31mTypeError\u001b[0m                                 Traceback (most recent call last)",
      "Cell \u001b[0;32mIn[21], line 1\u001b[0m\n\u001b[0;32m----> 1\u001b[0m \u001b[43mt1\u001b[49m\u001b[43m[\u001b[49m\u001b[38;5;241;43m1\u001b[39;49m\u001b[43m]\u001b[49m\u001b[38;5;241m=\u001b[39m\u001b[38;5;124m'\u001b[39m\u001b[38;5;124mData\u001b[39m\u001b[38;5;124m'\u001b[39m\n",
      "\u001b[0;31mTypeError\u001b[0m: 'set' object does not support item assignment"
     ]
    }
   ],
   "source": [
    "t1[1]='Data'"
   ]
  },
  {
   "cell_type": "code",
   "execution_count": 22,
   "id": "b95ca64e-1c63-4cf8-a5c2-d197235378af",
   "metadata": {},
   "outputs": [],
   "source": [
    "a= 'Piyush Datta'"
   ]
  },
  {
   "cell_type": "code",
   "execution_count": 23,
   "id": "0ccccb55-af73-4038-9213-aaf3a8439549",
   "metadata": {},
   "outputs": [
    {
     "ename": "TypeError",
     "evalue": "'str' object does not support item assignment",
     "output_type": "error",
     "traceback": [
      "\u001b[0;31m---------------------------------------------------------------------------\u001b[0m",
      "\u001b[0;31mTypeError\u001b[0m                                 Traceback (most recent call last)",
      "Cell \u001b[0;32mIn[23], line 1\u001b[0m\n\u001b[0;32m----> 1\u001b[0m \u001b[43ma\u001b[49m\u001b[43m[\u001b[49m\u001b[38;5;241;43m2\u001b[39;49m\u001b[43m]\u001b[49m\u001b[38;5;241m=\u001b[39m\u001b[38;5;124m'\u001b[39m\u001b[38;5;124me\u001b[39m\u001b[38;5;124m'\u001b[39m\n",
      "\u001b[0;31mTypeError\u001b[0m: 'str' object does not support item assignment"
     ]
    }
   ],
   "source": [
    "a[2]='e'"
   ]
  },
  {
   "cell_type": "code",
   "execution_count": null,
   "id": "8dd683a6-0ddc-474f-a2e5-327bdc8c8d79",
   "metadata": {},
   "outputs": [],
   "source": []
  }
 ],
 "metadata": {
  "kernelspec": {
   "display_name": "Python 3 (ipykernel)",
   "language": "python",
   "name": "python3"
  },
  "language_info": {
   "codemirror_mode": {
    "name": "ipython",
    "version": 3
   },
   "file_extension": ".py",
   "mimetype": "text/x-python",
   "name": "python",
   "nbconvert_exporter": "python",
   "pygments_lexer": "ipython3",
   "version": "3.10.8"
  }
 },
 "nbformat": 4,
 "nbformat_minor": 5
}
