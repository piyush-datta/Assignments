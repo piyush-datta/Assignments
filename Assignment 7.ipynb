{
 "cells": [
  {
   "cell_type": "markdown",
   "id": "fb90042e-9118-4e69-aa10-7c5d6543aad0",
   "metadata": {},
   "source": [
    "Q1. What is Abstraction in OOps? Explain with an example."
   ]
  },
  {
   "cell_type": "markdown",
   "id": "33f6b5de-b8d7-4cd2-90c8-7338f668c21f",
   "metadata": {},
   "source": [
    "Abstraction is defined as a process of handling complexity by hiding unnecessary information from the user. It acts as a skeleton/blueprint for the class methods to use it accordingly as per need later."
   ]
  },
  {
   "cell_type": "code",
   "execution_count": 7,
   "id": "90f4cd5c-4ed6-4814-81a6-597cf815af3c",
   "metadata": {},
   "outputs": [],
   "source": [
    "import abc\n",
    "class company:\n",
    "    @abc.abstractmethod\n",
    "    def director_details(self):\n",
    "        pass\n",
    "    \n",
    "    @abc.abstractmethod\n",
    "    def employee_details(self):\n",
    "        pass\n",
    "    \n",
    "class hr(company):\n",
    "    def director_details(self, name, position):\n",
    "        self.name= name\n",
    "        self.position= position\n",
    "        return self.name, self.position\n",
    "    \n",
    "    def employee_details(self):\n",
    "        return 'These are employee details for HR'\n",
    "    \n",
    "class employee(company):\n",
    "    def employee_details(self, name, position):\n",
    "        self.name= name\n",
    "        self.position= position\n",
    "        return self.name, self.position"
   ]
  },
  {
   "cell_type": "code",
   "execution_count": 8,
   "id": "21888777-d84f-49e2-bb8c-b1921e52324d",
   "metadata": {},
   "outputs": [],
   "source": [
    "det1=hr() "
   ]
  },
  {
   "cell_type": "code",
   "execution_count": 9,
   "id": "3df25187-9a59-4f8a-b8f5-97265a6f450e",
   "metadata": {},
   "outputs": [],
   "source": [
    "det2=employee()"
   ]
  },
  {
   "cell_type": "code",
   "execution_count": 10,
   "id": "d989fe32-4cd1-48b4-9e7e-8acae39d3175",
   "metadata": {},
   "outputs": [
    {
     "data": {
      "text/plain": [
       "('Alakh Pandey', 'CEO')"
      ]
     },
     "execution_count": 10,
     "metadata": {},
     "output_type": "execute_result"
    }
   ],
   "source": [
    "det1.director_details('Alakh Pandey', 'CEO')"
   ]
  },
  {
   "cell_type": "code",
   "execution_count": 12,
   "id": "2647d497-ff6d-4c85-96e3-e2ccca39f48a",
   "metadata": {},
   "outputs": [
    {
     "data": {
      "text/plain": [
       "('Piyush', 'Data scientist')"
      ]
     },
     "execution_count": 12,
     "metadata": {},
     "output_type": "execute_result"
    }
   ],
   "source": [
    "det2.employee_details('Piyush', 'Data scientist')"
   ]
  },
  {
   "cell_type": "markdown",
   "id": "513088c7-13f9-409e-b438-29ff01db6d95",
   "metadata": {},
   "source": [
    "Q2. Differentiate between Abstraction and Encapsulation. Explain with an example."
   ]
  },
  {
   "cell_type": "markdown",
   "id": "f676e63b-8bcd-407d-aecf-80540f1127a1",
   "metadata": {},
   "source": [
    "The difference between abstraction and encapsulation is that abstraction hides the code complexity while encapsulation hides the internal working from the outside world. "
   ]
  },
  {
   "cell_type": "markdown",
   "id": "e7c8f9d4-c7bf-4cb5-a539-da828ebc56f2",
   "metadata": {},
   "source": [
    "For example,  the user does not need to understand the internal workings of the mobile phone in order to utilise it, which is referred to as Encapsulation.\n",
    "On the other hand, abstraction might be defined as the ability to utilise the same interface for multiple objects"
   ]
  },
  {
   "cell_type": "markdown",
   "id": "50d23323-8820-405b-8ce2-7aa544b1fb47",
   "metadata": {},
   "source": [
    "Q3. What is abc module in python? Why is it used?"
   ]
  },
  {
   "cell_type": "markdown",
   "id": "8a0b957f-f5d9-4cb4-a25c-736c3d35b7ad",
   "metadata": {},
   "source": [
    "abc module is a module which is used in abstraction method of class. This module consists an abstract method through which we is used in abstraction process."
   ]
  },
  {
   "cell_type": "markdown",
   "id": "68159476-6c0a-46d5-86ea-58afc310eced",
   "metadata": {},
   "source": [
    "Q4. How can we achieve data abstraction?"
   ]
  },
  {
   "cell_type": "markdown",
   "id": "1f241b05-9456-41b1-b1db-d3bdfd0dbb2e",
   "metadata": {},
   "source": [
    "By using the abstract method of the abc module we can achieve data abstraction."
   ]
  },
  {
   "cell_type": "markdown",
   "id": "ccf77459-b4c0-40e0-8805-d184b7f89e6d",
   "metadata": {},
   "source": [
    "Q5. Can we create an instance of an abstract class? Explain your answer."
   ]
  },
  {
   "cell_type": "markdown",
   "id": "8c1b4d1a-4e7c-4fc1-ab06-8f88cbd7a660",
   "metadata": {},
   "source": [
    "Yes, we can create an instance of ab abstract. The explanation for the same is given through the above ex"
   ]
  }
 ],
 "metadata": {
  "kernelspec": {
   "display_name": "Python 3 (ipykernel)",
   "language": "python",
   "name": "python3"
  },
  "language_info": {
   "codemirror_mode": {
    "name": "ipython",
    "version": 3
   },
   "file_extension": ".py",
   "mimetype": "text/x-python",
   "name": "python",
   "nbconvert_exporter": "python",
   "pygments_lexer": "ipython3",
   "version": "3.10.8"
  }
 },
 "nbformat": 4,
 "nbformat_minor": 5
}
