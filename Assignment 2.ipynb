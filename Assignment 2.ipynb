{
 "cells": [
  {
   "cell_type": "markdown",
   "id": "9e96981f-fbc2-4748-93c1-4a072a61d45b",
   "metadata": {},
   "source": [
    "Q1. How do you comment code in Python? What are the different types of comments?"
   ]
  },
  {
   "cell_type": "markdown",
   "id": "07e23b58-02b1-43c7-a97b-8acde1e3e989",
   "metadata": {},
   "source": [
    "A code can be commented by putting '#' in starting of the code line. Or we can directly use shortcut i.e Ctrl+/ , which will comment the code.\n",
    "There are 3 types of comments:-\n",
    "1. Single line comment\n",
    "2. Multiline comment\n",
    "3. docstring comments"
   ]
  },
  {
   "cell_type": "markdown",
   "id": "071a8801-fdfb-443d-b0b0-ffe04e631e45",
   "metadata": {},
   "source": [
    "Q2. What are variables in Python? How do you declare and assign values to variables?"
   ]
  },
  {
   "cell_type": "markdown",
   "id": "e32773e4-fe39-4807-92ad-1cb557b26c1c",
   "metadata": {},
   "source": [
    "Variables are containers to store values of data in python. The values are assigned using assignment operator. \n",
    "for example-"
   ]
  },
  {
   "cell_type": "code",
   "execution_count": 1,
   "id": "ebdf889e-01d1-4f7b-8a65-2db31582dbf3",
   "metadata": {},
   "outputs": [
    {
     "name": "stdout",
     "output_type": "stream",
     "text": [
      "45\n"
     ]
    }
   ],
   "source": [
    "a=45\n",
    "print(a)"
   ]
  },
  {
   "cell_type": "markdown",
   "id": "28a01cd6-b34f-4ca6-a897-3aa8d55b4a7e",
   "metadata": {},
   "source": [
    "Q3. How do you convert one data type to another in Python?"
   ]
  },
  {
   "cell_type": "markdown",
   "id": "d66549c4-f809-44da-b33b-5a0ebc532ab9",
   "metadata": {},
   "source": [
    "By assigning the desired data type as function for the variable."
   ]
  },
  {
   "cell_type": "code",
   "execution_count": 2,
   "id": "a750efcb-c231-4be1-ab3f-f515f4ca6e72",
   "metadata": {},
   "outputs": [
    {
     "data": {
      "text/plain": [
       "int"
      ]
     },
     "execution_count": 2,
     "metadata": {},
     "output_type": "execute_result"
    }
   ],
   "source": [
    "type(a)"
   ]
  },
  {
   "cell_type": "code",
   "execution_count": 3,
   "id": "68ca881f-9296-47ad-b725-d1bceb672cd7",
   "metadata": {},
   "outputs": [
    {
     "data": {
      "text/plain": [
       "45.0"
      ]
     },
     "execution_count": 3,
     "metadata": {},
     "output_type": "execute_result"
    }
   ],
   "source": [
    "a=float(a)\n",
    "a"
   ]
  },
  {
   "cell_type": "markdown",
   "id": "67a54cb2-3072-41fe-b11c-3cc24975c6e7",
   "metadata": {},
   "source": [
    "Q4. How do you write and execute a Python script from the command line?"
   ]
  },
  {
   "cell_type": "markdown",
   "id": "6851be0d-51cb-45c4-a17e-b338579b8678",
   "metadata": {},
   "source": [
    "By writing 'Python' followed by the path to the script file. Then write the command you need to give and press ENTER"
   ]
  },
  {
   "cell_type": "markdown",
   "id": "21d38fdd-60bc-43ee-b2d1-df34392c59cb",
   "metadata": {},
   "source": [
    "Q5. Given a list my_list = [1, 2, 3, 4, 5], write the code to slice the list and obtain the sub-list [2, 3]."
   ]
  },
  {
   "cell_type": "code",
   "execution_count": 4,
   "id": "dd392f0e-f6d9-4d02-80a2-5f01a00e2d94",
   "metadata": {},
   "outputs": [],
   "source": [
    "my_list = [1, 2, 3, 4, 5]\n",
    "my_list=my_list[1:3]"
   ]
  },
  {
   "cell_type": "code",
   "execution_count": 5,
   "id": "023f385f-98b4-45c0-8a74-c0fa0a2edec4",
   "metadata": {},
   "outputs": [
    {
     "data": {
      "text/plain": [
       "[2, 3]"
      ]
     },
     "execution_count": 5,
     "metadata": {},
     "output_type": "execute_result"
    }
   ],
   "source": [
    "my_list"
   ]
  },
  {
   "cell_type": "markdown",
   "id": "b4ec3ec9-fecb-4373-9a08-956ce1582019",
   "metadata": {},
   "source": [
    "Q6. What is a complex number in mathematics, and how is it represented in Python?"
   ]
  },
  {
   "cell_type": "markdown",
   "id": "ed2be33f-44bd-44ee-8f39-ba4731cafdf9",
   "metadata": {},
   "source": [
    " A complex number is a number having both real and imaginary number. It is written in the form of 2+3i in mathematics where i denotes imaginary no. \n",
    "    Whereas in Python it will be denoted as 2+3j where j will be imaginory no."
   ]
  },
  {
   "cell_type": "markdown",
   "id": "a084ad5d-4ae1-485c-b624-49f121826810",
   "metadata": {},
   "source": [
    "Q7. What is the correct way to declare a variable named age and assign the value 25 to it?"
   ]
  },
  {
   "cell_type": "code",
   "execution_count": 6,
   "id": "b68eb2bc-156a-4c7a-beaa-64ffb369455b",
   "metadata": {},
   "outputs": [],
   "source": [
    "age=25"
   ]
  },
  {
   "cell_type": "code",
   "execution_count": 7,
   "id": "073a062c-cfdf-47c1-916c-959021bf9802",
   "metadata": {},
   "outputs": [
    {
     "data": {
      "text/plain": [
       "25"
      ]
     },
     "execution_count": 7,
     "metadata": {},
     "output_type": "execute_result"
    }
   ],
   "source": [
    "age"
   ]
  },
  {
   "cell_type": "markdown",
   "id": "e13e83c8-6f33-4ffa-992a-d4ef65651262",
   "metadata": {},
   "source": [
    "Q8. Declare a variable named price and assign the value 9.99 to it. What data type does this variable\n",
    "belong to?"
   ]
  },
  {
   "cell_type": "code",
   "execution_count": 8,
   "id": "a107bc55-21d6-4644-a73a-82889f5a1abf",
   "metadata": {},
   "outputs": [],
   "source": [
    "price=9.99"
   ]
  },
  {
   "cell_type": "markdown",
   "id": "8d946af1-12a0-4fe9-9b3c-67ee0dab6391",
   "metadata": {},
   "source": [
    "This is a float variable"
   ]
  },
  {
   "cell_type": "code",
   "execution_count": 9,
   "id": "a1d5f2cc-e2ac-4000-a125-6a3029f5a36b",
   "metadata": {},
   "outputs": [
    {
     "data": {
      "text/plain": [
       "float"
      ]
     },
     "execution_count": 9,
     "metadata": {},
     "output_type": "execute_result"
    }
   ],
   "source": [
    "type(price)"
   ]
  },
  {
   "cell_type": "markdown",
   "id": "1732881c-ab44-42ab-a8aa-05fb9be4b623",
   "metadata": {},
   "source": [
    "Q9. Create a variable named name and assign your full name to it as a string. How would you print the\n",
    "value of this variable?"
   ]
  },
  {
   "cell_type": "code",
   "execution_count": 10,
   "id": "5a4635e8-5063-4e88-acd0-3c00ef041ee0",
   "metadata": {},
   "outputs": [
    {
     "name": "stdout",
     "output_type": "stream",
     "text": [
      "Piyush Datta\n"
     ]
    }
   ],
   "source": [
    "name='Piyush Datta'\n",
    "print(name)"
   ]
  },
  {
   "cell_type": "markdown",
   "id": "b2f2af26-639d-4d2a-b744-2b1b403cf2e7",
   "metadata": {},
   "source": [
    "Q10. Given the string \"Hello, World!\", extract the substring \"World\"."
   ]
  },
  {
   "cell_type": "code",
   "execution_count": 11,
   "id": "ed2de585-6668-4690-a8bf-2c9a75babad4",
   "metadata": {},
   "outputs": [],
   "source": [
    "s= \"Hello, World!\""
   ]
  },
  {
   "cell_type": "code",
   "execution_count": 12,
   "id": "a420aee3-6984-4c34-9a0b-dc30209adb4c",
   "metadata": {},
   "outputs": [
    {
     "data": {
      "text/plain": [
       "'World'"
      ]
     },
     "execution_count": 12,
     "metadata": {},
     "output_type": "execute_result"
    }
   ],
   "source": [
    "s[7:-1]"
   ]
  },
  {
   "cell_type": "markdown",
   "id": "b2631f2e-aae1-4175-85d8-731154a5bfb9",
   "metadata": {},
   "source": [
    "Q11. Create a variable named \"is_student\" and assign it a boolean value indicating whether you are\n",
    "currently a student or not."
   ]
  },
  {
   "cell_type": "code",
   "execution_count": 13,
   "id": "5dcfb0d4-2854-47b7-91c2-50113dd11782",
   "metadata": {},
   "outputs": [],
   "source": [
    "is_student= True"
   ]
  },
  {
   "cell_type": "code",
   "execution_count": null,
   "id": "a409ee34-9794-4818-9034-44455d257856",
   "metadata": {},
   "outputs": [],
   "source": []
  }
 ],
 "metadata": {
  "kernelspec": {
   "display_name": "Python 3 (ipykernel)",
   "language": "python",
   "name": "python3"
  },
  "language_info": {
   "codemirror_mode": {
    "name": "ipython",
    "version": 3
   },
   "file_extension": ".py",
   "mimetype": "text/x-python",
   "name": "python",
   "nbconvert_exporter": "python",
   "pygments_lexer": "ipython3",
   "version": "3.10.8"
  }
 },
 "nbformat": 4,
 "nbformat_minor": 5
}
